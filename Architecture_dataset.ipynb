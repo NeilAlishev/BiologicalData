{
 "cells": [
  {
   "cell_type": "code",
   "execution_count": 81,
   "metadata": {},
   "outputs": [],
   "source": [
    "import pandas as pd\n",
    "in_file = \"datasets/human_domains_swiss.tsv\"\n",
    "inp = pd.read_csv(in_file, delimiter=\"\\t\")"
   ]
  },
  {
   "cell_type": "code",
   "execution_count": 82,
   "metadata": {},
   "outputs": [
    {
     "data": {
      "text/plain": [
       "pandas.core.frame.DataFrame"
      ]
     },
     "execution_count": 82,
     "metadata": {},
     "output_type": "execute_result"
    }
   ],
   "source": [
    "type(inp)"
   ]
  },
  {
   "cell_type": "code",
   "execution_count": 83,
   "metadata": {},
   "outputs": [
    {
     "data": {
      "text/html": [
       "<div>\n",
       "<style scoped>\n",
       "    .dataframe tbody tr th:only-of-type {\n",
       "        vertical-align: middle;\n",
       "    }\n",
       "\n",
       "    .dataframe tbody tr th {\n",
       "        vertical-align: top;\n",
       "    }\n",
       "\n",
       "    .dataframe thead th {\n",
       "        text-align: right;\n",
       "    }\n",
       "</style>\n",
       "<table border=\"1\" class=\"dataframe\">\n",
       "  <thead>\n",
       "    <tr style=\"text-align: right;\">\n",
       "      <th></th>\n",
       "      <th>Entry</th>\n",
       "      <th>Entry name</th>\n",
       "      <th>Protein names</th>\n",
       "      <th>Domain [FT]</th>\n",
       "    </tr>\n",
       "  </thead>\n",
       "  <tbody>\n",
       "    <tr>\n",
       "      <td>0</td>\n",
       "      <td>Q6ZSK4</td>\n",
       "      <td>NTAS1_HUMAN</td>\n",
       "      <td>Putative uncharacterized protein NTM-AS1 (NTM ...</td>\n",
       "      <td>NaN</td>\n",
       "    </tr>\n",
       "    <tr>\n",
       "      <td>1</td>\n",
       "      <td>Q9Y263</td>\n",
       "      <td>PLAP_HUMAN</td>\n",
       "      <td>Phospholipase A-2-activating protein (PLA2P) (...</td>\n",
       "      <td>DOMAIN 366..465;  /note=\"PFU\";  /evidence=\"ECO...</td>\n",
       "    </tr>\n",
       "    <tr>\n",
       "      <td>2</td>\n",
       "      <td>Q96RE7</td>\n",
       "      <td>NACC1_HUMAN</td>\n",
       "      <td>Nucleus accumbens-associated protein 1 (NAC-1)...</td>\n",
       "      <td>DOMAIN 30..94;  /note=\"BTB\";  /evidence=\"ECO:0...</td>\n",
       "    </tr>\n",
       "    <tr>\n",
       "      <td>3</td>\n",
       "      <td>O43312</td>\n",
       "      <td>MTSS1_HUMAN</td>\n",
       "      <td>Protein MTSS 1 (Metastasis suppressor YGL-1) (...</td>\n",
       "      <td>DOMAIN 1..250;  /note=\"IMD\";  /evidence=\"ECO:0...</td>\n",
       "    </tr>\n",
       "    <tr>\n",
       "      <td>4</td>\n",
       "      <td>Q9NP80</td>\n",
       "      <td>PLPL8_HUMAN</td>\n",
       "      <td>Calcium-independent phospholipase A2-gamma (EC...</td>\n",
       "      <td>DOMAIN 445..640;  /note=\"PNPLA\";  /evidence=\"E...</td>\n",
       "    </tr>\n",
       "  </tbody>\n",
       "</table>\n",
       "</div>"
      ],
      "text/plain": [
       "    Entry   Entry name                                      Protein names  \\\n",
       "0  Q6ZSK4  NTAS1_HUMAN  Putative uncharacterized protein NTM-AS1 (NTM ...   \n",
       "1  Q9Y263   PLAP_HUMAN  Phospholipase A-2-activating protein (PLA2P) (...   \n",
       "2  Q96RE7  NACC1_HUMAN  Nucleus accumbens-associated protein 1 (NAC-1)...   \n",
       "3  O43312  MTSS1_HUMAN  Protein MTSS 1 (Metastasis suppressor YGL-1) (...   \n",
       "4  Q9NP80  PLPL8_HUMAN  Calcium-independent phospholipase A2-gamma (EC...   \n",
       "\n",
       "                                         Domain [FT]  \n",
       "0                                                NaN  \n",
       "1  DOMAIN 366..465;  /note=\"PFU\";  /evidence=\"ECO...  \n",
       "2  DOMAIN 30..94;  /note=\"BTB\";  /evidence=\"ECO:0...  \n",
       "3  DOMAIN 1..250;  /note=\"IMD\";  /evidence=\"ECO:0...  \n",
       "4  DOMAIN 445..640;  /note=\"PNPLA\";  /evidence=\"E...  "
      ]
     },
     "execution_count": 83,
     "metadata": {},
     "output_type": "execute_result"
    }
   ],
   "source": [
    "inp.head()"
   ]
  },
  {
   "cell_type": "code",
   "execution_count": 84,
   "metadata": {},
   "outputs": [],
   "source": [
    "original_proteins = set()\n",
    "with open(\"datasets/original.txt\") as inp:\n",
    "    for i in inp:\n",
    "        original_proteins.add(i[:-1])"
   ]
  },
  {
   "cell_type": "code",
   "execution_count": 85,
   "metadata": {},
   "outputs": [
    {
     "ename": "AttributeError",
     "evalue": "'_io.TextIOWrapper' object has no attribute 'iloc'",
     "output_type": "error",
     "traceback": [
      "\u001b[0;31m---------------------------------------------------------------------------\u001b[0m",
      "\u001b[0;31mAttributeError\u001b[0m                            Traceback (most recent call last)",
      "\u001b[0;32m<ipython-input-85-759427bda568>\u001b[0m in \u001b[0;36m<module>\u001b[0;34m\u001b[0m\n\u001b[1;32m      1\u001b[0m \u001b[0mindex_drop\u001b[0m \u001b[0;34m=\u001b[0m \u001b[0;34m[\u001b[0m\u001b[0;34m]\u001b[0m\u001b[0;34m\u001b[0m\u001b[0;34m\u001b[0m\u001b[0m\n\u001b[0;32m----> 2\u001b[0;31m \u001b[0;32mfor\u001b[0m \u001b[0mi\u001b[0m\u001b[0;34m,\u001b[0m\u001b[0mj\u001b[0m \u001b[0;32min\u001b[0m \u001b[0menumerate\u001b[0m\u001b[0;34m(\u001b[0m\u001b[0minp\u001b[0m\u001b[0;34m.\u001b[0m\u001b[0miloc\u001b[0m\u001b[0;34m[\u001b[0m\u001b[0;34m:\u001b[0m\u001b[0;34m,\u001b[0m\u001b[0;36m1\u001b[0m\u001b[0;34m]\u001b[0m\u001b[0;34m)\u001b[0m\u001b[0;34m:\u001b[0m\u001b[0;34m\u001b[0m\u001b[0;34m\u001b[0m\u001b[0m\n\u001b[0m\u001b[1;32m      3\u001b[0m     \u001b[0;32mif\u001b[0m \u001b[0mj\u001b[0m \u001b[0;32mnot\u001b[0m \u001b[0;32min\u001b[0m \u001b[0moriginal_proteins\u001b[0m\u001b[0;34m:\u001b[0m\u001b[0;34m\u001b[0m\u001b[0;34m\u001b[0m\u001b[0m\n\u001b[1;32m      4\u001b[0m         \u001b[0mindex_drop\u001b[0m\u001b[0;34m.\u001b[0m\u001b[0mappend\u001b[0m\u001b[0;34m(\u001b[0m\u001b[0mi\u001b[0m\u001b[0;34m)\u001b[0m\u001b[0;34m\u001b[0m\u001b[0;34m\u001b[0m\u001b[0m\n",
      "\u001b[0;31mAttributeError\u001b[0m: '_io.TextIOWrapper' object has no attribute 'iloc'"
     ]
    }
   ],
   "source": [
    "index_drop = []\n",
    "for i,j in enumerate(inp.iloc[:,1]):\n",
    "    if j not in original_proteins:\n",
    "        index_drop.append(i)"
   ]
  },
  {
   "cell_type": "code",
   "execution_count": 73,
   "metadata": {},
   "outputs": [],
   "source": [
    "inp.drop(index_drop, inplace=True)\n",
    "domains_dict={}"
   ]
  },
  {
   "cell_type": "code",
   "execution_count": 80,
   "metadata": {},
   "outputs": [
    {
     "data": {
      "text/html": [
       "<div>\n",
       "<style scoped>\n",
       "    .dataframe tbody tr th:only-of-type {\n",
       "        vertical-align: middle;\n",
       "    }\n",
       "\n",
       "    .dataframe tbody tr th {\n",
       "        vertical-align: top;\n",
       "    }\n",
       "\n",
       "    .dataframe thead th {\n",
       "        text-align: right;\n",
       "    }\n",
       "</style>\n",
       "<table border=\"1\" class=\"dataframe\">\n",
       "  <thead>\n",
       "    <tr style=\"text-align: right;\">\n",
       "      <th></th>\n",
       "      <th>Entry</th>\n",
       "      <th>Entry name</th>\n",
       "      <th>Protein names</th>\n",
       "      <th>Domain [FT]</th>\n",
       "    </tr>\n",
       "  </thead>\n",
       "  <tbody>\n",
       "  </tbody>\n",
       "</table>\n",
       "</div>"
      ],
      "text/plain": [
       "Empty DataFrame\n",
       "Columns: [Entry, Entry name, Protein names, Domain [FT]]\n",
       "Index: []"
      ]
     },
     "execution_count": 80,
     "metadata": {},
     "output_type": "execute_result"
    }
   ],
   "source": [
    "inp.head()"
   ]
  },
  {
   "cell_type": "code",
   "execution_count": 79,
   "metadata": {},
   "outputs": [
    {
     "name": "stdout",
     "output_type": "stream",
     "text": [
      "Series([], Name: Domain [FT], dtype: object)\n"
     ]
    }
   ],
   "source": [
    "prot = inp.iloc[:,3]\n",
    "for entry in prot:\n",
    "    temp_domains=set()\n",
    "    for i in entry.split(\";\"):\n",
    "        if i.strip()[0:5]==\"/note\":\n",
    "            domain=i.split('\"')[1]\n",
    "            temp_domains.add(domain)\n",
    "    "
   ]
  }
 ],
 "metadata": {
  "kernelspec": {
   "display_name": "Python 3",
   "language": "python",
   "name": "python3"
  },
  "language_info": {
   "codemirror_mode": {
    "name": "ipython",
    "version": 3
   },
   "file_extension": ".py",
   "mimetype": "text/x-python",
   "name": "python",
   "nbconvert_exporter": "python",
   "pygments_lexer": "ipython3",
   "version": "3.7.4"
  }
 },
 "nbformat": 4,
 "nbformat_minor": 2
}
