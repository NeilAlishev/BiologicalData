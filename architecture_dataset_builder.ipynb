{
 "cells": [
  {
   "cell_type": "code",
   "execution_count": 26,
   "metadata": {
    "pycharm": {
     "is_executing": false
    }
   },
   "outputs": [],
   "source": [
    "\n",
    "import pandas as pd\n",
    "in_file = \"datasets/human_domains_swiss.tsv\"\n",
    "inp = pd.read_csv(in_file, delimiter=\"\\t\")"
   ]
  },
  {
   "cell_type": "code",
   "execution_count": 27,
   "metadata": {
    "pycharm": {
     "is_executing": false
    }
   },
   "outputs": [
    {
     "data": {
      "text/plain": "pandas.core.frame.DataFrame"
     },
     "metadata": {},
     "output_type": "execute_result",
     "execution_count": 27
    }
   ],
   "source": [
    "type(inp)"
   ]
  },
  {
   "cell_type": "code",
   "execution_count": 28,
   "metadata": {
    "pycharm": {
     "is_executing": false
    }
   },
   "outputs": [
    {
     "data": {
      "text/plain": "    Entry   Entry name                                      Protein names  \\\n0  Q6ZSK4  NTAS1_HUMAN  Putative uncharacterized protein NTM-AS1 (NTM ...   \n1  Q9Y263   PLAP_HUMAN  Phospholipase A-2-activating protein (PLA2P) (...   \n2  Q96RE7  NACC1_HUMAN  Nucleus accumbens-associated protein 1 (NAC-1)...   \n3  O43312  MTSS1_HUMAN  Protein MTSS 1 (Metastasis suppressor YGL-1) (...   \n4  Q9NP80  PLPL8_HUMAN  Calcium-independent phospholipase A2-gamma (EC...   \n\n                                         Domain [FT]  \n0                                                NaN  \n1  DOMAIN 366..465;  /note=\"PFU\";  /evidence=\"ECO...  \n2  DOMAIN 30..94;  /note=\"BTB\";  /evidence=\"ECO:0...  \n3  DOMAIN 1..250;  /note=\"IMD\";  /evidence=\"ECO:0...  \n4  DOMAIN 445..640;  /note=\"PNPLA\";  /evidence=\"E...  ",
      "text/html": "<div>\n<style scoped>\n    .dataframe tbody tr th:only-of-type {\n        vertical-align: middle;\n    }\n\n    .dataframe tbody tr th {\n        vertical-align: top;\n    }\n\n    .dataframe thead th {\n        text-align: right;\n    }\n</style>\n<table border=\"1\" class=\"dataframe\">\n  <thead>\n    <tr style=\"text-align: right;\">\n      <th></th>\n      <th>Entry</th>\n      <th>Entry name</th>\n      <th>Protein names</th>\n      <th>Domain [FT]</th>\n    </tr>\n  </thead>\n  <tbody>\n    <tr>\n      <th>0</th>\n      <td>Q6ZSK4</td>\n      <td>NTAS1_HUMAN</td>\n      <td>Putative uncharacterized protein NTM-AS1 (NTM ...</td>\n      <td>NaN</td>\n    </tr>\n    <tr>\n      <th>1</th>\n      <td>Q9Y263</td>\n      <td>PLAP_HUMAN</td>\n      <td>Phospholipase A-2-activating protein (PLA2P) (...</td>\n      <td>DOMAIN 366..465;  /note=\"PFU\";  /evidence=\"ECO...</td>\n    </tr>\n    <tr>\n      <th>2</th>\n      <td>Q96RE7</td>\n      <td>NACC1_HUMAN</td>\n      <td>Nucleus accumbens-associated protein 1 (NAC-1)...</td>\n      <td>DOMAIN 30..94;  /note=\"BTB\";  /evidence=\"ECO:0...</td>\n    </tr>\n    <tr>\n      <th>3</th>\n      <td>O43312</td>\n      <td>MTSS1_HUMAN</td>\n      <td>Protein MTSS 1 (Metastasis suppressor YGL-1) (...</td>\n      <td>DOMAIN 1..250;  /note=\"IMD\";  /evidence=\"ECO:0...</td>\n    </tr>\n    <tr>\n      <th>4</th>\n      <td>Q9NP80</td>\n      <td>PLPL8_HUMAN</td>\n      <td>Calcium-independent phospholipase A2-gamma (EC...</td>\n      <td>DOMAIN 445..640;  /note=\"PNPLA\";  /evidence=\"E...</td>\n    </tr>\n  </tbody>\n</table>\n</div>"
     },
     "metadata": {},
     "output_type": "execute_result",
     "execution_count": 28
    }
   ],
   "source": [
    "inp.head()"
   ]
  },
  {
   "cell_type": "code",
   "execution_count": 29,
   "metadata": {
    "pycharm": {
     "is_executing": false
    }
   },
   "outputs": [
    {
     "name": "stdout",
     "text": [
      "190\n"
     ],
     "output_type": "stream"
    }
   ],
   "source": [
    "original_proteins = set()\n",
    "with open(\"datasets/original.txt\") as f:\n",
    "    for i in f:\n",
    "        original_proteins.add(i[:-1])\n",
    "print(len(original_proteins))"
   ]
  },
  {
   "cell_type": "code",
   "execution_count": 35,
   "metadata": {
    "pycharm": {
     "is_executing": false
    }
   },
   "outputs": [],
   "source": [
    "index_drop = []\n",
    "for i,j in enumerate(inp.iloc[:,0]):\n",
    "    if j not in original_proteins:\n",
    "        index_drop.append(i)\n",
    "        "
   ]
  },
  {
   "cell_type": "code",
   "execution_count": 36,
   "metadata": {
    "pycharm": {
     "is_executing": false
    }
   },
   "outputs": [
    {
     "name": "stdout",
     "text": [
      "20177\n"
     ],
     "output_type": "stream"
    }
   ],
   "source": [
    "inp.drop(index_drop, inplace=True)"
   ]
  },
  {
   "cell_type": "code",
   "execution_count": 72,
   "outputs": [],
   "source": [
    "domains_dict={}\n"
   ],
   "metadata": {
    "collapsed": false,
    "pycharm": {
     "name": "#%%\n",
     "is_executing": false
    }
   }
  },
  {
   "cell_type": "code",
   "execution_count": 73,
   "metadata": {
    "pycharm": {
     "is_executing": false
    }
   },
   "outputs": [],
   "source": [
    "for index, row in inp.iterrows():\n",
    "    temp_domains = set()\n",
    "    for i in row['Domain [FT]'].split(\";\"):\n",
    "        if i.strip()[0:5]==\"/note\":\n",
    "            domain = i.split('\"')[1]\n",
    "            temp_domains.add(domain)\n",
    "    domains_dict.setdefault(', '.join(temp_domains), set()).add(row['Entry'])"
   ]
  },
  {
   "cell_type": "code",
   "execution_count": 71,
   "outputs": [],
   "source": [
    "for k in domains_dict.keys():\n",
    "    domains_dict[k] = list(domains_dict[k])\n",
    "\n",
    "import json\n",
    "\n",
    "with open('datasets/architecture_datasets.json', 'w') as f:\n",
    "     f.write(json.dumps(domains_dict)) "
   ],
   "metadata": {
    "collapsed": false,
    "pycharm": {
     "name": "#%%\n",
     "is_executing": false
    }
   }
  },
  {
   "cell_type": "code",
   "execution_count": null,
   "outputs": [],
   "source": [],
   "metadata": {
    "collapsed": false,
    "pycharm": {
     "name": "#%%\n"
    }
   }
  }
 ],
 "metadata": {
  "kernelspec": {
   "display_name": "Python 3",
   "language": "python",
   "name": "python3"
  },
  "language_info": {
   "codemirror_mode": {
    "name": "ipython",
    "version": 3
   },
   "file_extension": ".py",
   "mimetype": "text/x-python",
   "name": "python",
   "nbconvert_exporter": "python",
   "pygments_lexer": "ipython3",
   "version": "3.7.4"
  },
  "pycharm": {
   "stem_cell": {
    "cell_type": "raw",
    "source": [],
    "metadata": {
     "collapsed": false
    }
   }
  }
 },
 "nbformat": 4,
 "nbformat_minor": 2
}