{
 "cells": [
  {
   "cell_type": "code",
   "execution_count": 26,
   "metadata": {
    "pycharm": {
     "is_executing": false
    }
   },
   "outputs": [],
   "source": [
    "\n",
    "import pandas as pd\n",
    "in_file = \"datasets/human_domains_swiss.tsv\"\n",
    "inp = pd.read_csv(in_file, delimiter=\"\\t\")"
   ]
  },
  {
   "cell_type": "code",
   "execution_count": 29,
   "metadata": {
    "pycharm": {
     "is_executing": false
    }
   },
   "outputs": [
    {
     "name": "stdout",
     "text": [
      "190\n"
     ],
     "output_type": "stream"
    }
   ],
   "source": [
    "original_proteins = set()\n",
    "with open(\"datasets/original.txt\") as f:\n",
    "    for i in f:\n",
    "        original_proteins.add(i[:-1])\n",
    "print(len(original_proteins))"
   ]
  },
  {
   "cell_type": "code",
   "execution_count": 35,
   "metadata": {
    "pycharm": {
     "is_executing": false
    }
   },
   "outputs": [],
   "source": [
    "index_drop = []\n",
    "for i,j in enumerate(inp.iloc[:,0]):\n",
    "    if j not in original_proteins:\n",
    "        index_drop.append(i)\n",
    "        "
   ]
  },
  {
   "cell_type": "code",
   "execution_count": 36,
   "metadata": {
    "pycharm": {
     "is_executing": false
    }
   },
   "outputs": [
    {
     "name": "stdout",
     "text": [
      "20177\n"
     ],
     "output_type": "stream"
    }
   ],
   "source": [
    "inp.drop(index_drop, inplace=True)"
   ]
  },
  {
   "cell_type": "code",
   "execution_count": 72,
   "outputs": [],
   "source": [
    "domains_dict={}\n"
   ],
   "metadata": {
    "collapsed": false,
    "pycharm": {
     "name": "#%%\n",
     "is_executing": false
    }
   }
  },
  {
   "cell_type": "code",
   "execution_count": 73,
   "metadata": {
    "pycharm": {
     "is_executing": false
    }
   },
   "outputs": [],
   "source": [
    "for index, row in inp.iterrows():\n",
    "    temp_domains = set()\n",
    "    for i in row['Domain [FT]'].split(\";\"):\n",
    "        if i.strip()[0:5]==\"/note\":\n",
    "            domain = i.split('\"')[1]\n",
    "            temp_domains.add(domain)\n",
    "    domains_dict.setdefault(', '.join(temp_domains), set()).add(row['Entry'])"
   ]
  },
  {
   "cell_type": "code",
   "execution_count": 71,
   "outputs": [],
   "source": [
    "for k in domains_dict.keys():\n",
    "    domains_dict[k] = list(domains_dict[k])\n",
    "\n",
    "import json\n",
    "\n",
    "with open('datasets/architecture_datasets.json', 'w') as f:\n",
    "     f.write(json.dumps(domains_dict)) \n",
    "\n"
   ],
   "metadata": {
    "collapsed": false,
    "pycharm": {
     "name": "#%%\n",
     "is_executing": false
    }
   }
  }
 ],
 "metadata": {
  "kernelspec": {
   "display_name": "Python 3",
   "language": "python",
   "name": "python3"
  },
  "language_info": {
   "codemirror_mode": {
    "name": "ipython",
    "version": 3
   },
   "file_extension": ".py",
   "mimetype": "text/x-python",
   "name": "python",
   "nbconvert_exporter": "python",
   "pygments_lexer": "ipython3",
   "version": "3.7.4"
  },
  "pycharm": {
   "stem_cell": {
    "cell_type": "raw",
    "source": [],
    "metadata": {
     "collapsed": false
    }
   }
  }
 },
 "nbformat": 4,
 "nbformat_minor": 2
}