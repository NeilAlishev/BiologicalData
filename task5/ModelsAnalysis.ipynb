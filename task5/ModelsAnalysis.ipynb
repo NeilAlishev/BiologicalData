{
 "cells": [
  {
   "cell_type": "code",
   "execution_count": 15,
   "metadata": {},
   "outputs": [],
   "source": [
    "import math"
   ]
  },
  {
   "cell_type": "code",
   "execution_count": 8,
   "metadata": {},
   "outputs": [],
   "source": [
    "# HMM model analysis (all the data from files uniprotPF00018proteins.hmmer_align and uniprotNOT_PF00018proteins.hmmer_align)\n",
    "\n",
    "# PF00018 proteins\n",
    "# 96 hits out of 101 reference proteins\n",
    "\n",
    "# NOT PF00018 proteins (E-value threshold 0.001)\n",
    "# 75 hits out of 20266 reference proteins\n",
    "\n",
    "tp = 96\n",
    "tn = 20266 - 75\n",
    "fp = 75\n",
    "fn = 101 - 96"
   ]
  },
  {
   "cell_type": "code",
   "execution_count": 12,
   "metadata": {},
   "outputs": [
    {
     "name": "stdout",
     "output_type": "stream",
     "text": [
      "HMM model:\n",
      "TP:96\n",
      "FP:75\n",
      "FN:5\n",
      "TN:20191\n"
     ]
    }
   ],
   "source": [
    "print(\"HMM model:\")\n",
    "print(\"TP:\" + str(tp))\n",
    "print(\"FP:\" + str(fp))\n",
    "print(\"FN:\" + str(fn))\n",
    "print(\"TN:\" + str(tn))"
   ]
  },
  {
   "cell_type": "code",
   "execution_count": 20,
   "metadata": {},
   "outputs": [],
   "source": [
    "accuracy = (tp + tn) / (tp + tn + fp + fn)\n",
    "precision = tp / (tp + fp)\n",
    "sensitivity = tp / (tp + fn)\n",
    "specificity = tn / (tn + fp)\n",
    "mcc = (tp * tn - fp * fn) / math.sqrt((tp + fp) * (tp + fn) * (tn + fp) * (tn + fn))"
   ]
  },
  {
   "cell_type": "code",
   "execution_count": 21,
   "metadata": {},
   "outputs": [
    {
     "name": "stdout",
     "output_type": "stream",
     "text": [
      "Accuracy: 0.9960720773800756\n",
      "Precision: 0.5614035087719298\n",
      "Sensitivity: 0.9504950495049505\n",
      "Specificity: 0.9962992203690911\n",
      "MCC: 0.7289027532936224\n"
     ]
    }
   ],
   "source": [
    "print(\"Accuracy:\", str(accuracy))\n",
    "print(\"Precision:\", str(precision))\n",
    "print(\"Sensitivity:\", str(sensitivity))\n",
    "print(\"Specificity:\", str(specificity))\n",
    "print(\"MCC:\", str(mcc))"
   ]
  },
  {
   "cell_type": "code",
   "execution_count": 22,
   "metadata": {},
   "outputs": [],
   "source": [
    "# PSSM model analysis (all the data from files uniprotPF00018.txt and uniprotNOT_PF00018.txt)\n",
    "\n",
    "# PF00018 proteins\n",
    "# 100 significant hits out of 101 reference proteins\n",
    "\n",
    "# NOT PF00018 proteins (E-value threshold 0.001)\n",
    "# 92 hits out of 20266 reference proteins\n",
    "\n",
    "tp = 100\n",
    "tn = 20266 - 92\n",
    "fp = 92\n",
    "fn = 101 - 100"
   ]
  },
  {
   "cell_type": "code",
   "execution_count": 23,
   "metadata": {},
   "outputs": [
    {
     "name": "stdout",
     "output_type": "stream",
     "text": [
      "PSSM model:\n",
      "TP:100\n",
      "FP:92\n",
      "FN:1\n",
      "TN:20174\n"
     ]
    }
   ],
   "source": [
    "print(\"PSSM model:\")\n",
    "print(\"TP:\" + str(tp))\n",
    "print(\"FP:\" + str(fp))\n",
    "print(\"FN:\" + str(fn))\n",
    "print(\"TN:\" + str(tn))"
   ]
  },
  {
   "cell_type": "code",
   "execution_count": 24,
   "metadata": {},
   "outputs": [],
   "source": [
    "accuracy = (tp + tn) / (tp + tn + fp + fn)\n",
    "precision = tp / (tp + fp)\n",
    "sensitivity = tp / (tp + fn)\n",
    "specificity = tn / (tn + fp)\n",
    "mcc = (tp * tn - fp * fn) / math.sqrt((tp + fp) * (tp + fn) * (tn + fp) * (tn + fn))"
   ]
  },
  {
   "cell_type": "code",
   "execution_count": 25,
   "metadata": {},
   "outputs": [
    {
     "name": "stdout",
     "output_type": "stream",
     "text": [
      "Accuracy: 0.9954337899543378\n",
      "Precision: 0.5208333333333334\n",
      "Sensitivity: 0.9900990099009901\n",
      "Specificity: 0.995460376986085\n",
      "MCC: 0.7164239876938241\n"
     ]
    }
   ],
   "source": [
    "print(\"Accuracy:\", str(accuracy))\n",
    "print(\"Precision:\", str(precision))\n",
    "print(\"Sensitivity:\", str(sensitivity))\n",
    "print(\"Specificity:\", str(specificity))\n",
    "print(\"MCC:\", str(mcc))"
   ]
  },
  {
   "cell_type": "code",
   "execution_count": null,
   "metadata": {},
   "outputs": [],
   "source": []
  }
 ],
 "metadata": {
  "kernelspec": {
   "display_name": "Python 3",
   "language": "python",
   "name": "python3"
  },
  "language_info": {
   "codemirror_mode": {
    "name": "ipython",
    "version": 3
   },
   "file_extension": ".py",
   "mimetype": "text/x-python",
   "name": "python",
   "nbconvert_exporter": "python",
   "pygments_lexer": "ipython3",
   "version": "3.7.3"
  }
 },
 "nbformat": 4,
 "nbformat_minor": 2
}
