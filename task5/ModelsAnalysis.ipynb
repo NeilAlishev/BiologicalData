{
 "cells": [
  {
   "cell_type": "code",
   "execution_count": null,
   "metadata": {},
   "outputs": [],
   "source": [
    "# HMM model analysis\n",
    "\n",
    "# PF00018 proteins\n",
    "# 96 hits out of 101 reference proteins\n",
    "\n",
    "# NOT PF00018 proteins (E-value threshold 0.001)\n",
    "# 75 hits out of 20266 reference proteins\n",
    "\n",
    "tp = 96\n",
    "tn = 20266 - 75\n",
    "fp = 75\n",
    "fn = 101 - 96"
   ]
  },
  {
   "cell_type": "code",
   "execution_count": null,
   "metadata": {},
   "outputs": [],
   "source": [
    "# PSSM model analysis\n",
    "\n",
    "# PF00018 proteins\n",
    "# 100 significant hits out of 101 reference proteins\n",
    "\n",
    "# NOT PF00018 proteins (E-value threshold 0.001)\n",
    "# 92 hits out of 20266 reference proteins\n",
    "\n",
    "tp = 100\n",
    "tn = 20266 - 92\n",
    "fp = 92\n",
    "fn = 101 - 100"
   ]
  }
 ],
 "metadata": {
  "kernelspec": {
   "display_name": "Python 3",
   "language": "python",
   "name": "python3"
  },
  "language_info": {
   "codemirror_mode": {
    "name": "ipython",
    "version": 3
   },
   "file_extension": ".py",
   "mimetype": "text/x-python",
   "name": "python",
   "nbconvert_exporter": "python",
   "pygments_lexer": "ipython3",
   "version": "3.7.3"
  }
 },
 "nbformat": 4,
 "nbformat_minor": 2
}
