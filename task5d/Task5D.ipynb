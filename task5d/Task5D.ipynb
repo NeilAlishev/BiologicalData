{
 "cells": [
  {
   "cell_type": "code",
   "execution_count": 176,
   "metadata": {},
   "outputs": [],
   "source": [
    "import json\n",
    "import math\n",
    "import numpy as np"
   ]
  },
  {
   "cell_type": "code",
   "execution_count": 177,
   "metadata": {},
   "outputs": [],
   "source": [
    "# finds reviewed protein's domain positions in interpro JSON by accession string\n",
    "# returns None, if protein with given accession wasn't found in interpro JSON\n",
    "def find_protein_positions_by_accession(accession, interpro_data):\n",
    "    for i in range(len(interpro_data)):\n",
    "        if interpro_data[i]['metadata']['accession'] == accession and interpro_data[i]['metadata']['source_database'] != \"unreviewed\":\n",
    "            positions = []\n",
    "            \n",
    "            for position in interpro_data[i]['entries'][0]['entry_protein_locations']:\n",
    "                positions.append((position['fragments'][0]['start'], position['fragments'][0]['end']))\n",
    "            \n",
    "            return positions\n",
    "    \n",
    "    return None"
   ]
  },
  {
   "cell_type": "code",
   "execution_count": 178,
   "metadata": {},
   "outputs": [],
   "source": [
    "'''\n",
    "Example cases (from HMM model):\n",
    "\n",
    "# Model: [(744, 806), (917, 970), (1006, 1057), (1082, 1138), (1162, 1212)]\n",
    "# Reference: [(919, 963), (1008, 1052), (1163, 1206)]\n",
    "\n",
    "# Model: [(506, 550)]\n",
    "# Reference: [(507, 563)]\n",
    "'''\n",
    "\n",
    "def compute_metrics(model_hits, reference_hits):\n",
    "    leftmost_pos = model_hits[0][0] if model_hits[0][0] < reference_hits[0][0] else reference_hits[0][0]\n",
    "    rightmost_pos = model_hits[-1][1] if model_hits[-1][1] > reference_hits[-1][1] else reference_hits[-1][1]\n",
    "    model_arr, ref_arr = np.zeros(rightmost_pos - leftmost_pos), np.zeros(rightmost_pos - leftmost_pos)\n",
    "    \n",
    "    # put 1 in ref_arr where PF00018 domain is present\n",
    "    for reference_hit in reference_hits:\n",
    "        ref_arr[reference_hit[0] - leftmost_pos:reference_hit[1] - leftmost_pos] = 1\n",
    "    \n",
    "    # put 2 in model_arr where hit was found\n",
    "    for model_hit in model_hits:\n",
    "        model_arr[model_hit[0] - leftmost_pos:model_hit[1] - leftmost_pos] = 2\n",
    "    \n",
    "    result = model_arr + ref_arr\n",
    "    \n",
    "    tp = np.sum(result == 3)\n",
    "    tn = np.sum(result == 0)\n",
    "    fp = np.sum(result == 2)\n",
    "    fn = np.sum(result == 1)\n",
    "    \n",
    "    return np.array([tp, tn, fp, fn])"
   ]
  },
  {
   "cell_type": "code",
   "execution_count": 179,
   "metadata": {},
   "outputs": [],
   "source": [
    "with open(\"interpro-pfam-data.json\", \"r\") as read_file:\n",
    "    interpro_data = json.load(read_file)"
   ]
  },
  {
   "cell_type": "code",
   "execution_count": 180,
   "metadata": {},
   "outputs": [],
   "source": [
    "# Analyze HMM model\n",
    "\n",
    "hmm_results = open(\"hmmresults/hmmsearch.hmmer_domtblout\")\n",
    "\n",
    "# skip unused lines\n",
    "hmm_results.__next__()\n",
    "hmm_results.__next__()\n",
    "hmm_results.__next__()\n",
    "\n",
    "first_hit = hmm_results.__next__().split()\n",
    "\n",
    "current_protein_id = first_hit[0].split(\"|\")[1]\n",
    "current_protein_hits = [(int(first_hit[17]), int(first_hit[18]))]\n",
    "\n",
    "# accumulates tp, tn, fp, fn values from all the proteins\n",
    "metrics_accum = np.zeros(4)\n",
    "\n",
    "for line in hmm_results:\n",
    "    line_data = line.split()\n",
    "    \n",
    "    # last line\n",
    "    if len(line_data) == 1:\n",
    "        # compute metrics for the last protein\n",
    "        metrics_accum += compute_metrics(current_protein_hits, find_protein_positions_by_accession(current_protein_id, interpro_data))\n",
    "        break\n",
    "    \n",
    "    protein_id = line_data[0].split(\"|\")[1]\n",
    "    \n",
    "    if protein_id != current_protein_id:        \n",
    "        # Calculation of TP, TN, FP, FN metrics for the given protein\n",
    "        metrics_accum += compute_metrics(current_protein_hits, find_protein_positions_by_accession(current_protein_id, interpro_data))\n",
    "        \n",
    "        current_protein_id = protein_id\n",
    "        current_protein_hits = []\n",
    "    \n",
    "    hit_start = int(line_data[17])\n",
    "    hit_end = int(line_data[18])\n",
    "    \n",
    "    current_protein_hits.append((hit_start, hit_end))\n",
    "\n",
    "\n",
    "tp = metrics_accum[0]\n",
    "tn = metrics_accum[1]\n",
    "fp = metrics_accum[2]\n",
    "fn = metrics_accum[3]\n",
    "mcc = (tp * tn - fp * fn) / math.sqrt((tp + fp) * (tp + fn) * (tn + fp) * (tn + fn))"
   ]
  },
  {
   "cell_type": "code",
   "execution_count": 181,
   "metadata": {},
   "outputs": [
    {
     "name": "stdout",
     "output_type": "stream",
     "text": [
      "Results for the HMM model:\n",
      "Number of True Positives: 5377\n",
      "Number of True Negatives: 5968\n",
      "Number of False Positives: 2895\n",
      "Number of False Negatives: 55\n",
      "MCC score: 0.6519685391994191\n"
     ]
    }
   ],
   "source": [
    "print(\"Results for the HMM model:\")\n",
    "print(f\"Number of True Positives: {int(tp)}\")\n",
    "print(f\"Number of True Negatives: {int(tn)}\")\n",
    "print(f\"Number of False Positives: {int(fp)}\")\n",
    "print(f\"Number of False Negatives: {int(fn)}\")\n",
    "print(f\"MCC score: {mcc}\")"
   ]
  },
  {
   "cell_type": "code",
   "execution_count": 182,
   "metadata": {},
   "outputs": [],
   "source": [
    "# Analyze PSSM model\n",
    "\n",
    "pssm_results = open(\"pssmresults/psiblast_out_tabular.txt\")\n",
    "\n",
    "first_hit = pssm_results.__next__().split()\n",
    "\n",
    "current_protein_id = first_hit[1]\n",
    "current_protein_hits = [(int(first_hit[8]), int(first_hit[9]))]\n",
    "\n",
    "# accumulates tp, tn, fp, fn values from all the proteins\n",
    "metrics_accum = np.zeros(4)\n",
    "\n",
    "for line in pssm_results:\n",
    "    line_data = line.split()\n",
    "    \n",
    "    protein_id = line_data[1]\n",
    "    \n",
    "    if protein_id != current_protein_id:        \n",
    "        # Calculation of TP, TN, FP, FN metrics for the given protein\n",
    "        metrics_accum += compute_metrics(current_protein_hits, find_protein_positions_by_accession(current_protein_id, interpro_data))\n",
    "        \n",
    "        current_protein_id = protein_id\n",
    "        current_protein_hits = []\n",
    "    \n",
    "    hit_start = int(line_data[8])\n",
    "    hit_end = int(line_data[9])\n",
    "    \n",
    "    current_protein_hits.append((hit_start, hit_end))\n",
    "\n",
    "# Last protein\n",
    "metrics_accum += compute_metrics(current_protein_hits, find_protein_positions_by_accession(current_protein_id, interpro_data))\n",
    "\n",
    "tp = metrics_accum[0]\n",
    "tn = metrics_accum[1]\n",
    "fp = metrics_accum[2]\n",
    "fn = metrics_accum[3]\n",
    "mcc = (tp * tn - fp * fn) / math.sqrt((tp + fp) * (tp + fn) * (tn + fp) * (tn + fn))"
   ]
  },
  {
   "cell_type": "code",
   "execution_count": 183,
   "metadata": {},
   "outputs": [
    {
     "name": "stdout",
     "output_type": "stream",
     "text": [
      "Results for the PSSM model:\n",
      "Number of True Positives: 4433\n",
      "Number of True Negatives: 4298\n",
      "Number of False Positives: 517\n",
      "Number of False Negatives: 610\n",
      "MCC score: 0.7714680429593606\n"
     ]
    }
   ],
   "source": [
    "print(\"Results for the PSSM model:\")\n",
    "print(f\"Number of True Positives: {int(tp)}\")\n",
    "print(f\"Number of True Negatives: {int(tn)}\")\n",
    "print(f\"Number of False Positives: {int(fp)}\")\n",
    "print(f\"Number of False Negatives: {int(fn)}\")\n",
    "print(f\"MCC score: {mcc}\")"
   ]
  },
  {
   "cell_type": "code",
   "execution_count": null,
   "metadata": {},
   "outputs": [],
   "source": []
  }
 ],
 "metadata": {
  "kernelspec": {
   "display_name": "Python 3",
   "language": "python",
   "name": "python3"
  },
  "language_info": {
   "codemirror_mode": {
    "name": "ipython",
    "version": 3
   },
   "file_extension": ".py",
   "mimetype": "text/x-python",
   "name": "python",
   "nbconvert_exporter": "python",
   "pygments_lexer": "ipython3",
   "version": "3.7.3"
  }
 },
 "nbformat": 4,
 "nbformat_minor": 2
}
