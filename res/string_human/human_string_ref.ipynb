{
 "cells": [
  {
   "cell_type": "code",
   "execution_count": 1,
   "metadata": {},
   "outputs": [],
   "source": [
    "import pandas as pd \n",
    "from Bio import SeqIO\n",
    "file_in = \"string_human.txt\""
   ]
  },
  {
   "cell_type": "code",
   "execution_count": 2,
   "metadata": {},
   "outputs": [
    {
     "data": {
      "text/plain": [
       "0        9606.ENSP00000000233\n",
       "1        9606.ENSP00000000412\n",
       "2        9606.ENSP00000001008\n",
       "3        9606.ENSP00000001146\n",
       "4        9606.ENSP00000002125\n",
       "                 ...         \n",
       "19561    9606.ENSP00000485671\n",
       "19562    9606.ENSP00000485672\n",
       "19563    9606.ENSP00000485673\n",
       "19564    9606.ENSP00000485675\n",
       "19565    9606.ENSP00000485678\n",
       "Name: protein_external_id, Length: 19566, dtype: object"
      ]
     },
     "execution_count": 2,
     "metadata": {},
     "output_type": "execute_result"
    }
   ],
   "source": [
    "# READ STRING FILE AND RETRIEVE STRING_IDS\n",
    "string_human = pd.read_csv(file_in, sep='\\t')\n",
    "string_human_ids = string_human[\"protein_external_id\"]\n",
    "string_human_ids"
   ]
  },
  {
   "cell_type": "code",
   "execution_count": 3,
   "metadata": {},
   "outputs": [],
   "source": [
    "# SAVE STRING IDS\n",
    "with open('string_human_ids.txt', 'w') as f:\n",
    "    for item in string_human_ids:\n",
    "        f.write(\"%s\\n\" % item)"
   ]
  },
  {
   "cell_type": "code",
   "execution_count": null,
   "metadata": {},
   "outputs": [],
   "source": [
    "# CONVERT IDS IN UNIPROT AND TAKE ONLY THOSE IN SWISSPROT"
   ]
  },
  {
   "cell_type": "code",
   "execution_count": 5,
   "metadata": {},
   "outputs": [],
   "source": [
    "# READ FAST FILE AND FILTER IDS\n",
    "fasta_sequences = SeqIO.parse(open('string_human_ids.fasta'),'fasta')\n",
    "string_proteins = []\n",
    "for fasta in fasta_sequences:\n",
    "    name = fasta.id\n",
    "    proteins = name.split(\"|\")[1]\n",
    "    string_proteins.append(proteins)"
   ]
  },
  {
   "cell_type": "code",
   "execution_count": 6,
   "metadata": {},
   "outputs": [],
   "source": [
    "# SAVE IDS\n",
    "with open('string_reference.txt', 'w') as f:\n",
    "    for item in string_proteins:\n",
    "        f.write(\"%s\\n\" % item)"
   ]
  }
 ],
 "metadata": {
  "kernelspec": {
   "display_name": "Python 3",
   "language": "python",
   "name": "python3"
  },
  "language_info": {
   "codemirror_mode": {
    "name": "ipython",
    "version": 3
   },
   "file_extension": ".py",
   "mimetype": "text/x-python",
   "name": "python",
   "nbconvert_exporter": "python",
   "pygments_lexer": "ipython3",
   "version": "3.7.4"
  }
 },
 "nbformat": 4,
 "nbformat_minor": 2
}
