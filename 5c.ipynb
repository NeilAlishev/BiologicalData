{
 "cells": [
  {
   "cell_type": "code",
   "execution_count": 2,
   "metadata": {},
   "outputs": [],
   "source": [
    "from Bio import SeqIO"
   ]
  },
  {
   "cell_type": "code",
   "execution_count": 3,
   "metadata": {},
   "outputs": [
    {
     "name": "stdout",
     "output_type": "stream",
     "text": [
      "101\n"
     ]
    }
   ],
   "source": [
    "# Sequences really containing PF0018\n",
    "fasta_sequences = SeqIO.parse(open('Swiss_Human/PF00018_human.fasta'),'fasta')\n",
    "proteins_true = []\n",
    "for fasta in fasta_sequences:\n",
    "    name = fasta.id\n",
    "    proteins = name.split(\"|\")[1]\n",
    "    proteins_true.append(proteins)\n",
    "    \n",
    "# check that they are 101\n",
    "print(len(proteins_true))"
   ]
  },
  {
   "cell_type": "code",
   "execution_count": 4,
   "metadata": {},
   "outputs": [
    {
     "name": "stdout",
     "output_type": "stream",
     "text": [
      "500\n"
     ]
    }
   ],
   "source": [
    "# Sequences retrieved by PSIBLAST\n",
    "psi = open(\"results/psiblast_out.txt\", \"r\")\n",
    "proteins_psi = []\n",
    "for line in psi:\n",
    "    if line[0]==\">\":\n",
    "        proteins_psi.append(line[1:7])\n",
    "        \n",
    "# How many?\n",
    "print(len(proteins_psi))"
   ]
  },
  {
   "cell_type": "code",
   "execution_count": 5,
   "metadata": {},
   "outputs": [
    {
     "name": "stdout",
     "output_type": "stream",
     "text": [
      "TP: 101\n",
      "FP: 399\n",
      "FN: 0\n",
      "TN:19867\n"
     ]
    }
   ],
   "source": [
    "# True positive\n",
    "TP = len(list(set(proteins_true).intersection(proteins_psi)))\n",
    "# False Positive\n",
    "FP=len(proteins_psi)-TP\n",
    "# False Negative\n",
    "FN = len(proteins_true)-TP\n",
    "# True Negative\n",
    "TN = 20367- (TP + FP + FN)\n",
    "print(\"TP: {}\\nFP: {}\\nFN: {}\\nTN:{}\".format(TP,FP,FN,TN))"
   ]
  },
  {
   "cell_type": "code",
   "execution_count": 6,
   "metadata": {},
   "outputs": [
    {
     "name": "stdout",
     "output_type": "stream",
     "text": [
      "189\n"
     ]
    }
   ],
   "source": [
    "# Sequences retrieved by HMMER\n",
    "psi = open(\"results/hmmsearch_out.hmmer_align\", \"r\")\n",
    "proteins_hmmer = []\n",
    "for line in psi:\n",
    "    if line[0:2]==\">>\":\n",
    "        proteins_hmmer.append(line[6:12])\n",
    "        \n",
    "# How many?\n",
    "print(len(proteins_hmmer))"
   ]
  },
  {
   "cell_type": "code",
   "execution_count": 7,
   "metadata": {},
   "outputs": [
    {
     "name": "stdout",
     "output_type": "stream",
     "text": [
      "TP: 96\n",
      "FP: 93\n",
      "FN: 5\n",
      "TN:20173\n"
     ]
    }
   ],
   "source": [
    "# True positive\n",
    "TP = len(list(set(proteins_true).intersection(proteins_hmmer)))\n",
    "# False Positive\n",
    "FP=len(proteins_hmmer)-TP\n",
    "# False Negative\n",
    "FN = len(proteins_true)-TP\n",
    "# True Negative\n",
    "TN = 20367- (TP + FP + FN)\n",
    "print(\"TP: {}\\nFP: {}\\nFN: {}\\nTN:{}\".format(TP,FP,FN,TN))"
   ]
  }
 ],
 "metadata": {
  "kernelspec": {
   "display_name": "Python 3",
   "language": "python",
   "name": "python3"
  },
  "language_info": {
   "codemirror_mode": {
    "name": "ipython",
    "version": 3
   },
   "file_extension": ".py",
   "mimetype": "text/x-python",
   "name": "python",
   "nbconvert_exporter": "python",
   "pygments_lexer": "ipython3",
   "version": "3.7.4"
  }
 },
 "nbformat": 4,
 "nbformat_minor": 2
}
