{
 "cells": [
  {
   "cell_type": "code",
   "execution_count": 3,
   "metadata": {},
   "outputs": [],
   "source": [
    "from Bio import SeqIO\n",
    "import math"
   ]
  },
  {
   "cell_type": "code",
   "execution_count": 4,
   "metadata": {},
   "outputs": [
    {
     "name": "stdout",
     "output_type": "stream",
     "text": [
      "Q96HU1\n",
      "P42681\n",
      "Q15642\n",
      "Q13882\n",
      "Q15811\n",
      "Q92783\n",
      "Q7Z6B7\n",
      "O60504\n",
      "P02549\n",
      "Q96N96\n",
      "O75044\n",
      "P19878\n",
      "Q99961\n",
      "Q8TEC5\n",
      "Q7Z6J0\n",
      "P19174\n",
      "P06239\n",
      "O75962\n",
      "Q13813\n",
      "Q12965\n",
      "Q9NZQ3\n",
      "Q8NFA2\n",
      "Q86WV1\n",
      "O75563\n",
      "P07948\n",
      "P98171\n",
      "Q15080\n",
      "P12931\n",
      "O94875\n",
      "O43295\n",
      "Q8TEJ3\n",
      "Q9H6Q3\n",
      "Q5HYK7\n",
      "P16885\n",
      "P20936\n",
      "Q9BRR9\n",
      "Q92882\n",
      "O15259\n",
      "Q13239\n",
      "Q96MF2\n",
      "P16333\n",
      "P15498\n",
      "A1X283\n",
      "Q9BX66\n",
      "Q5TCZ1\n",
      "O75886\n",
      "P42680\n",
      "Q9Y5X1\n",
      "P07947\n",
      "O43639\n",
      "Q06187\n",
      "Q9ULH1\n",
      "Q9UNF0\n",
      "P06241\n",
      "Q86UR1\n",
      "Q08881\n",
      "P14598\n",
      "O43307\n",
      "Q12959\n",
      "Q9NZM3\n",
      "Q8N157\n",
      "P62993\n",
      "P08631\n",
      "P00519\n",
      "P14317\n",
      "P42684\n",
      "Q9H6S3\n",
      "Q6XZF7\n",
      "P51451\n",
      "O94868\n",
      "O75791\n",
      "P41240\n",
      "Q8IZP0\n",
      "P42679\n",
      "Q8TE68\n",
      "P09769\n",
      "P55345\n",
      "P42685\n",
      "Q92796\n",
      "Q9NR80\n",
      "Q96KQ4\n",
      "Q9Y5K6\n",
      "Q5T0N5\n",
      "P56945\n",
      "P46108\n",
      "Q9H7D0\n",
      "Q13625\n",
      "Q12929\n",
      "P78352\n",
      "P46109\n",
      "Q13588\n",
      "Q8N5V2\n",
      "Q8TE67\n",
      "Q8TF17\n",
      "Q96HL8\n",
      "Q99469\n",
      "A6NI72\n",
      "A8MVU1\n",
      "A1IGU5\n",
      "Q8TE82\n",
      "Q8TC17\n",
      "101\n"
     ]
    }
   ],
   "source": [
    "# Sequences really containing PF0018\n",
    "fasta_sequences = SeqIO.parse(open('Swiss_Human/PF00018_human.fasta'),'fasta')\n",
    "proteins_true = []\n",
    "for fasta in fasta_sequences:\n",
    "    name = fasta.id\n",
    "    proteins = name.split(\"|\")[1]\n",
    "    print(proteins)\n",
    "    proteins_true.append(proteins)\n",
    "    \n",
    "# check that they are 101\n",
    "print(len(proteins_true))"
   ]
  },
  {
   "cell_type": "code",
   "execution_count": 5,
   "metadata": {},
   "outputs": [
    {
     "name": "stdout",
     "output_type": "stream",
     "text": [
      "107\n"
     ]
    }
   ],
   "source": [
    "# Sequences retrieved by PSIBLAST\n",
    "psi = open(\"results/psiblast_out.txt\", \"r\")\n",
    "proteins_psi = []\n",
    "for line in psi:\n",
    "    if line[0]==\">\":\n",
    "        proteins_psi.append(line[1:7])\n",
    "        \n",
    "# How many?\n",
    "print(len(proteins_psi))"
   ]
  },
  {
   "cell_type": "code",
   "execution_count": 6,
   "metadata": {
    "scrolled": true
   },
   "outputs": [
    {
     "name": "stdout",
     "output_type": "stream",
     "text": [
      "TP: 72\n",
      "FP: 35\n",
      "FN: 29\n",
      "TN:20231\n"
     ]
    }
   ],
   "source": [
    "# True positive\n",
    "TP = len(list(set(proteins_true).intersection(proteins_psi)))\n",
    "# False Positive\n",
    "FP=len(proteins_psi)-TP\n",
    "# False Negative\n",
    "FN = len(proteins_true)-TP\n",
    "# True Negative\n",
    "TN = 20367- (TP + FP + FN)\n",
    "print(\"TP: {}\\nFP: {}\\nFN: {}\\nTN:{}\".format(TP,FP,FN,TN))"
   ]
  },
  {
   "cell_type": "code",
   "execution_count": 15,
   "metadata": {},
   "outputs": [
    {
     "name": "stdout",
     "output_type": "stream",
     "text": [
      "PSSM metrics:\n",
      "accuracy: 0.9968576619040604\n",
      "precision: 0.6728971962616822\n",
      "sensitivity: 0.7128712871287128\n",
      "specificity: 0.9982729695055759\n",
      "mcc: 0.6910202965864407\n"
     ]
    }
   ],
   "source": [
    "# PSSM metrics\n",
    "acc = (TP + TN) / (TP + TN + FP + FN)\n",
    "pre = (TP) / (TP + FP)\n",
    "sen = TP / (TP + FN)\n",
    "spe = TN / (TN + FP)\n",
    "mcc = (TP * TN - FP * FN) / math.sqrt((TP + FP) * (TP + FN) * (TN + FP) * (TN + FN))\n",
    "\n",
    "print(\"PSSM metrics:\")\n",
    "print(f\"accuracy: {acc}\")\n",
    "print(f\"precision: {pre}\")\n",
    "print(f\"sensitivity: {sen}\")\n",
    "print(f\"specificity: {spe}\")\n",
    "print(f\"mcc: {mcc}\")"
   ]
  },
  {
   "cell_type": "code",
   "execution_count": 16,
   "metadata": {},
   "outputs": [
    {
     "name": "stdout",
     "output_type": "stream",
     "text": [
      "190\n"
     ]
    }
   ],
   "source": [
    "# Sequences retrieved by HMMER\n",
    "psi = open(\"results/hmmsearch_out.hmmer_align\", \"r\")\n",
    "proteins_hmmer = []\n",
    "for line in psi:\n",
    "    if line[0:2]==\">>\":\n",
    "        proteins_hmmer.append(line[6:12])\n",
    "        \n",
    "# How many?\n",
    "print(len(proteins_hmmer))"
   ]
  },
  {
   "cell_type": "code",
   "execution_count": 17,
   "metadata": {},
   "outputs": [
    {
     "name": "stdout",
     "output_type": "stream",
     "text": [
      "TP: 97\n",
      "FP: 93\n",
      "FN: 4\n",
      "TN:20173\n"
     ]
    }
   ],
   "source": [
    "# True positive\n",
    "TP = len(list(set(proteins_true).intersection(proteins_hmmer)))\n",
    "# False Positive\n",
    "FP=len(proteins_hmmer)-TP\n",
    "# False Negative\n",
    "FN = len(proteins_true)-TP\n",
    "# True Negative\n",
    "TN = 20367- (TP + FP + FN)\n",
    "print(\"TP: {}\\nFP: {}\\nFN: {}\\nTN:{}\".format(TP,FP,FN,TN))"
   ]
  },
  {
   "cell_type": "code",
   "execution_count": 18,
   "metadata": {},
   "outputs": [
    {
     "name": "stdout",
     "output_type": "stream",
     "text": [
      "HMM metrics:\n",
      "accuracy: 0.9952373938233416\n",
      "precision: 0.5105263157894737\n",
      "sensitivity: 0.9603960396039604\n",
      "specificity: 0.995411033257673\n",
      "mcc: 0.6984090341888622\n"
     ]
    }
   ],
   "source": [
    "# HMM metrics\n",
    "acc = (TP + TN) / (TP + TN + FP + FN)\n",
    "pre = (TP) / (TP + FP)\n",
    "sen = TP / (TP + FN)\n",
    "spe = TN / (TN + FP)\n",
    "mcc = (TP * TN - FP * FN) / math.sqrt((TP + FP) * (TP + FN) * (TN + FP) * (TN + FN))\n",
    "\n",
    "print(\"HMM metrics:\")\n",
    "print(f\"accuracy: {acc}\")\n",
    "print(f\"precision: {pre}\")\n",
    "print(f\"sensitivity: {sen}\")\n",
    "print(f\"specificity: {spe}\")\n",
    "print(f\"mcc: {mcc}\")"
   ]
  },
  {
   "cell_type": "code",
   "execution_count": 10,
   "metadata": {},
   "outputs": [],
   "source": [
    "with open('datasets/original.txt', 'w') as f:\n",
    "    for item in proteins_hmmer:\n",
    "        f.write(\"%s\\n\" % item)"
   ]
  }
 ],
 "metadata": {
  "kernelspec": {
   "display_name": "Python 3",
   "language": "python",
   "name": "python3"
  },
  "language_info": {
   "codemirror_mode": {
    "name": "ipython",
    "version": 3
   },
   "file_extension": ".py",
   "mimetype": "text/x-python",
   "name": "python",
   "nbconvert_exporter": "python",
   "pygments_lexer": "ipython3",
   "version": "3.7.4"
  },
  "pycharm": {
   "stem_cell": {
    "cell_type": "raw",
    "metadata": {
     "collapsed": false
    },
    "source": []
   }
  }
 },
 "nbformat": 4,
 "nbformat_minor": 2
}
