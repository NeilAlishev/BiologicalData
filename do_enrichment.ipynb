{
 "cells": [
  {
   "cell_type": "code",
   "execution_count": 30,
   "metadata": {
    "pycharm": {
     "is_executing": false
    }
   },
   "outputs": [],
   "source": [
    "import json"
   ]
  },
  {
   "cell_type": "code",
   "execution_count": 23,
   "metadata": {
    "pycharm": {
     "is_executing": false
    }
   },
   "outputs": [],
   "source": [
    "with open('datasets/uniprot_do.json') as json_file:\n",
    "    starting_do = json.load(json_file)"
   ]
  },
  {
   "cell_type": "code",
   "execution_count": 24,
   "metadata": {
    "pycharm": {
     "is_executing": false
    }
   },
   "outputs": [],
   "source": [
    "# Create dictionary do_id:[ancestor] ->do,\n",
    "#   and do_id:depth -> depth,\n",
    "\n",
    "do = {}  # { do_id : do_object }\n",
    "obj = {}  # { id: do_id, name: definition, xref: list_of_omim_ids, is_a: list_of_parents, is_obsolete: True }\n",
    "with open(\"res/doid.obo\") as f:\n",
    "    for line in f:\n",
    "        line = line.strip().split(\": \")\n",
    "        if line and len(line) == 2 or line[0] == 'def':\n",
    "            if len(line) > 2:\n",
    "                k = line[0]\n",
    "                v = line[1]\n",
    "            else:\n",
    "                k, v = line\n",
    "            if k == \"id\" and v.startswith(\"DOID:\"):\n",
    "                obj[\"id\"] = v.split(\":\")[1]\n",
    "                if obj[\"id\"] == '3488':\n",
    "                    pass\n",
    "            elif k == \"xref\" and \"OMIM\" in v:\n",
    "                obj[\"omim\"] = v.split(\":\")[1]\n",
    "            elif k == \"name\":\n",
    "                obj[\"name\"] = v\n",
    "            elif k == \"is_a\":\n",
    "                obj.setdefault(\"is_a\", []).append(v.split()[0].split(\":\")[1])\n",
    "            elif k == \"is_obsolete\":\n",
    "                obj[\"is_obsolete\"] = True\n",
    "        else:\n",
    "            if obj.get(\"id\") and not obj.get(\"is_obsolete\"):\n",
    "                do[obj[\"id\"]] = obj\n",
    "            obj = {}"
   ]
  },
  {
   "cell_type": "code",
   "execution_count": 3,
   "metadata": {
    "pycharm": {
     "is_executing": false
    }
   },
   "outputs": [],
   "source": [
    "doid_name = {}\n",
    "\n",
    "for k, v in do.items():\n",
    "    doid_name.setdefault(k, v['name'])\n",
    "\n",
    "json = json.dumps(doid_name)\n",
    "f = open(\"datasets/do_files/do_name.json\", \"w\")\n",
    "f.write(json)\n",
    "f.close()"
   ]
  },
  {
   "cell_type": "code",
   "execution_count": 25,
   "outputs": [],
   "source": [
    "# Build an ancestors dictionary\n",
    "ancestors = {}  # { term : list_of_ancestor_terms }\n",
    "depth = {}\n",
    "for node in do:\n",
    "    c = 0\n",
    "    node_ancestors = []\n",
    "    node_parents = do[node].get(\"is_a\")\n",
    "    # Loop parent levels until no more parents\n",
    "    while node_parents:\n",
    "        c += 1\n",
    "        node_ancestors.extend(node_parents)\n",
    "        if \"4\" in node_parents:  # \"4\" is the root ID\n",
    "            depth[node] = c\n",
    "        # Get the parents of current parents (1 level up)\n",
    "        node_parents = [term for parent in node_parents for term in do[parent].get(\"is_a\", [])]\n",
    "        # print(node_parents)\n",
    "    ancestors[node] = set(node_ancestors)"
   ],
   "metadata": {
    "collapsed": false,
    "pycharm": {
     "name": "#%%\n",
     "is_executing": false
    }
   }
  },
  {
   "cell_type": "code",
   "execution_count": 26,
   "metadata": {
    "pycharm": {
     "is_executing": false
    }
   },
   "outputs": [],
   "source": [
    "for k,v in starting_do.items():\n",
    "    for do_term in set(v):\n",
    "        for ancestor in ancestors[do_term]:\n",
    "            starting_do[k].append(ancestor)"
   ]
  },
  {
   "cell_type": "code",
   "execution_count": 27,
   "metadata": {
    "pycharm": {
     "is_executing": false
    }
   },
   "outputs": [],
   "source": [
    "for k,v in starting_do.items():\n",
    "    starting_do[k]=list(set(v))"
   ]
  },
  {
   "cell_type": "code",
   "execution_count": 28,
   "metadata": {
    "pycharm": {
     "is_executing": false
    }
   },
   "outputs": [],
   "source": [
    "json = json.dumps(starting_do)\n",
    "f = open(\"datasets/do_files/enriched_do.json\", \"w\")\n",
    "f.write(json)\n",
    "f.close()"
   ]
  },
  {
   "cell_type": "code",
   "execution_count": 31,
   "metadata": {
    "pycharm": {
     "is_executing": false
    }
   },
   "outputs": [],
   "source": [
    "json = json.dumps(depth)\n",
    "f = open(\"datasets/do_files/do_depth.json\", \"w\")\n",
    "f.write(json)\n",
    "f.close()"
   ]
  },
  {
   "cell_type": "code",
   "execution_count": null,
   "outputs": [],
   "source": [
    "\n"
   ],
   "metadata": {
    "collapsed": false,
    "pycharm": {
     "name": "#%%\n"
    }
   }
  }
 ],
 "metadata": {
  "kernelspec": {
   "display_name": "Python 3",
   "language": "python",
   "name": "python3"
  },
  "language_info": {
   "codemirror_mode": {
    "name": "ipython",
    "version": 3
   },
   "file_extension": ".py",
   "mimetype": "text/x-python",
   "name": "python",
   "nbconvert_exporter": "python",
   "pygments_lexer": "ipython3",
   "version": "3.7.4"
  },
  "pycharm": {
   "stem_cell": {
    "cell_type": "raw",
    "source": [],
    "metadata": {
     "collapsed": false
    }
   }
  }
 },
 "nbformat": 4,
 "nbformat_minor": 2
}